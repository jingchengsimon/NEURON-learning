{
 "cells": [
  {
   "cell_type": "code",
   "execution_count": 1,
   "metadata": {},
   "outputs": [
    {
     "name": "stderr",
     "output_type": "stream",
     "text": [
      "Warning: no DISPLAY environment variable.\n",
      "--No graphics will be displayed.\n"
     ]
    }
   ],
   "source": [
    "# Jingcheng Shi\n",
    "# 06/05/23\n",
    "\n",
    "from neuron import h, gui\n",
    "from neuron.units import ms, mV\n",
    "\n",
    "import matplotlib.pyplot as plt\n",
    "\n",
    "import os\n",
    "import numpy as np\n",
    "import pandas as pd\n",
    "\n",
    "from matplotlib.patches import Polygon\n",
    "from matplotlib.collections import PatchCollection\n",
    "\n",
    "h.load_file('stdrun.hoc')\n",
    "h.load_file('import3d.hoc')\n",
    "\n",
    "swc_file = 'cell1'\n",
    "morphology = \"./{x}.swc\".format(x=swc_file)"
   ]
  },
  {
   "cell_type": "code",
   "execution_count": null,
   "metadata": {},
   "outputs": [],
   "source": [
    "class Cell:\n",
    "    def __init__(self, gid):\n",
    "        self._gid = gid\n",
    "        self._setup_morphology()\n",
    "        # self.all = self.soma.wholetree()\n",
    "        # self._setup_biophysics()\n",
    "\n",
    "        # self.x = self.y = self.z = 0                     # <-- NEW\n",
    "        # h.define_shape()\n",
    "        # self._rotate_z(theta)                            # <-- NEW        \n",
    "        # self._set_position(x, y, z)                      # <-- NEW\n",
    "\n",
    "    def __repr__(self):\n",
    "        return '{}[{}]'.format(self.name, self._gid)\n",
    "    \n",
    " "
   ]
  },
  {
   "cell_type": "code",
   "execution_count": null,
   "metadata": {},
   "outputs": [],
   "source": [
    "class L5Model(Cell):\n",
    "    name = 'L5Model'\n",
    "    \n",
    "    def _setup_morphology(self):    \n",
    "        cell = h.Import3d_SWC_read()\n",
    "        cell.input(morphology)\n",
    "        i3d = h.Import3d_GUI(cell, 1)\n",
    "        i3d.instantiate(None)\n",
    "        # h.define_shape()\n",
    "        # self.create_sectionlists()\n",
    "        # self.set_nsegs()\n"
   ]
  },
  {
   "cell_type": "code",
   "execution_count": null,
   "metadata": {},
   "outputs": [],
   "source": [
    "# Test the code\n",
    "\n",
    "my_cell = L5Model(0)\n",
    "h.PlotShape(True).plot(plt)\n",
    "# ps = h.PlotShape(True)\n",
    "# ps.show(0)"
   ]
  }
 ],
 "metadata": {
  "kernelspec": {
   "display_name": "Python 3",
   "language": "python",
   "name": "python3"
  },
  "language_info": {
   "codemirror_mode": {
    "name": "ipython",
    "version": 3
   },
   "file_extension": ".py",
   "mimetype": "text/x-python",
   "name": "python",
   "nbconvert_exporter": "python",
   "pygments_lexer": "ipython3",
   "version": "3.8.10"
  },
  "orig_nbformat": 4
 },
 "nbformat": 4,
 "nbformat_minor": 2
}
